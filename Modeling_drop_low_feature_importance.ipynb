{
 "cells": [
  {
   "cell_type": "markdown",
   "metadata": {},
   "source": [
    "## 네 번째 모델링 : 1~3번 째 모델링에서 뽑은 특성중요도에서 낮은 값을 가지는 컬럼을 제외한 모델링"
   ]
  },
  {
   "cell_type": "code",
   "execution_count": 1,
   "metadata": {},
   "outputs": [],
   "source": [
    "import pandas as pd\n",
    "import numpy as np\n",
    "import warnings\n",
    "warnings.filterwarnings('ignore')\n",
    "\n",
    "train = pd.read_csv('./train_new.csv')\n",
    "train.drop(['ID','근로기간','주택소유상태','총연체금액','연체계좌수'], axis=1, inplace=True)"
   ]
  },
  {
   "cell_type": "code",
   "execution_count": 2,
   "metadata": {},
   "outputs": [
    {
     "data": {
      "text/html": [
       "<div>\n",
       "<style scoped>\n",
       "    .dataframe tbody tr th:only-of-type {\n",
       "        vertical-align: middle;\n",
       "    }\n",
       "\n",
       "    .dataframe tbody tr th {\n",
       "        vertical-align: top;\n",
       "    }\n",
       "\n",
       "    .dataframe thead th {\n",
       "        text-align: right;\n",
       "    }\n",
       "</style>\n",
       "<table border=\"1\" class=\"dataframe\">\n",
       "  <thead>\n",
       "    <tr style=\"text-align: right;\">\n",
       "      <th></th>\n",
       "      <th>대출금액</th>\n",
       "      <th>대출기간</th>\n",
       "      <th>연간소득</th>\n",
       "      <th>부채_대비_소득_비율</th>\n",
       "      <th>총계좌수</th>\n",
       "      <th>대출목적</th>\n",
       "      <th>최근_2년간_연체_횟수</th>\n",
       "      <th>총상환원금</th>\n",
       "      <th>총상환이자</th>\n",
       "      <th>대출등급</th>\n",
       "    </tr>\n",
       "  </thead>\n",
       "  <tbody>\n",
       "    <tr>\n",
       "      <th>0</th>\n",
       "      <td>12480000</td>\n",
       "      <td>3</td>\n",
       "      <td>72000000</td>\n",
       "      <td>18.90</td>\n",
       "      <td>15</td>\n",
       "      <td>부채 통합</td>\n",
       "      <td>0</td>\n",
       "      <td>0</td>\n",
       "      <td>0.0</td>\n",
       "      <td>C</td>\n",
       "    </tr>\n",
       "    <tr>\n",
       "      <th>1</th>\n",
       "      <td>14400000</td>\n",
       "      <td>5</td>\n",
       "      <td>130800000</td>\n",
       "      <td>22.33</td>\n",
       "      <td>21</td>\n",
       "      <td>주택 개선</td>\n",
       "      <td>0</td>\n",
       "      <td>373572</td>\n",
       "      <td>234060.0</td>\n",
       "      <td>B</td>\n",
       "    </tr>\n",
       "    <tr>\n",
       "      <th>2</th>\n",
       "      <td>12000000</td>\n",
       "      <td>3</td>\n",
       "      <td>96000000</td>\n",
       "      <td>8.60</td>\n",
       "      <td>14</td>\n",
       "      <td>부채 통합</td>\n",
       "      <td>0</td>\n",
       "      <td>928644</td>\n",
       "      <td>151944.0</td>\n",
       "      <td>A</td>\n",
       "    </tr>\n",
       "    <tr>\n",
       "      <th>3</th>\n",
       "      <td>14400000</td>\n",
       "      <td>3</td>\n",
       "      <td>132000000</td>\n",
       "      <td>15.09</td>\n",
       "      <td>15</td>\n",
       "      <td>부채 통합</td>\n",
       "      <td>0</td>\n",
       "      <td>325824</td>\n",
       "      <td>153108.0</td>\n",
       "      <td>C</td>\n",
       "    </tr>\n",
       "    <tr>\n",
       "      <th>4</th>\n",
       "      <td>4800000</td>\n",
       "      <td>3</td>\n",
       "      <td>84000000</td>\n",
       "      <td>13.78</td>\n",
       "      <td>30</td>\n",
       "      <td>휴가</td>\n",
       "      <td>0</td>\n",
       "      <td>240216</td>\n",
       "      <td>55428.0</td>\n",
       "      <td>A</td>\n",
       "    </tr>\n",
       "  </tbody>\n",
       "</table>\n",
       "</div>"
      ],
      "text/plain": [
       "       대출금액  대출기간       연간소득  부채_대비_소득_비율  총계좌수   대출목적  최근_2년간_연체_횟수   총상환원금  \\\n",
       "0  12480000     3   72000000        18.90    15  부채 통합             0       0   \n",
       "1  14400000     5  130800000        22.33    21  주택 개선             0  373572   \n",
       "2  12000000     3   96000000         8.60    14  부채 통합             0  928644   \n",
       "3  14400000     3  132000000        15.09    15  부채 통합             0  325824   \n",
       "4   4800000     3   84000000        13.78    30     휴가             0  240216   \n",
       "\n",
       "      총상환이자 대출등급  \n",
       "0       0.0    C  \n",
       "1  234060.0    B  \n",
       "2  151944.0    A  \n",
       "3  153108.0    C  \n",
       "4   55428.0    A  "
      ]
     },
     "execution_count": 2,
     "metadata": {},
     "output_type": "execute_result"
    }
   ],
   "source": [
    "train.head()"
   ]
  },
  {
   "cell_type": "code",
   "execution_count": 3,
   "metadata": {},
   "outputs": [],
   "source": [
    "from sklearn.preprocessing import LabelEncoder\n",
    "\n",
    "le = LabelEncoder()\n",
    "\n",
    "train['대출목적'] = le.fit_transform(train['대출목적'])\n",
    "train['대출등급'] = le.fit_transform(train['대출등급'])"
   ]
  },
  {
   "cell_type": "code",
   "execution_count": 10,
   "metadata": {},
   "outputs": [],
   "source": [
    "X = train.iloc[:, :-1]\n",
    "y = train.iloc[:, -1]\n",
    "\n",
    "from sklearn.preprocessing import StandardScaler\n",
    "\n",
    "ss = StandardScaler()\n",
    "\n",
    "X_ss = ss.fit_transform(X)"
   ]
  },
  {
   "cell_type": "code",
   "execution_count": 5,
   "metadata": {},
   "outputs": [],
   "source": [
    "from sklearn.linear_model import LogisticRegression\n",
    "from sklearn.tree import DecisionTreeClassifier\n",
    "from sklearn.ensemble import RandomForestClassifier, GradientBoostingClassifier\n",
    "from xgboost import XGBClassifier\n",
    "from lightgbm import LGBMClassifier\n",
    "from sklearn.model_selection import GridSearchCV, RandomizedSearchCV\n",
    "from sklearn.metrics import f1_score"
   ]
  },
  {
   "cell_type": "code",
   "execution_count": 11,
   "metadata": {},
   "outputs": [],
   "source": [
    "from sklearn.model_selection import train_test_split\n",
    "\n",
    "X_train, X_val, y_train, y_val = train_test_split(X_ss, y, test_size=0.3, stratify=y, random_state=42)"
   ]
  },
  {
   "cell_type": "code",
   "execution_count": 12,
   "metadata": {},
   "outputs": [],
   "source": [
    "def grid_search(model, params, random=False):\n",
    "    clf = model\n",
    "    if not random:\n",
    "        grid = GridSearchCV(clf, params,\n",
    "                                scoring='f1_macro', cv=5,\n",
    "                                n_jobs=-1)\n",
    "    else:\n",
    "        grid = RandomizedSearchCV(clf, params, n_iter=10,\n",
    "                                scoring='f1_macro', cv=5,\n",
    "                                n_jobs=-1, random_state=42)\n",
    "        \n",
    "    grid.fit(X_train, y_train)\n",
    "    \n",
    "    \n",
    "    best_model = grid.best_estimator_\n",
    "    \n",
    "    best_params = grid.best_params_\n",
    "    print(\"최상의 매개변수:\", best_params)\n",
    "    \n",
    "    best_score = grid.best_score_\n",
    "    print(\"훈련 점수: {:.3f}\".format(best_score))\n",
    "    \n",
    "    y_pred = best_model.predict(X_val)\n",
    "    macro_f1_val = f1_score(y_val, y_pred, average='macro')\n",
    "    print('테스트 세트 점수: {:.3f}'.format(macro_f1_val))"
   ]
  },
  {
   "cell_type": "code",
   "execution_count": 9,
   "metadata": {},
   "outputs": [
    {
     "name": "stdout",
     "output_type": "stream",
     "text": [
      "최상의 매개변수: {'min_samples_leaf': 19, 'min_impurity_decrease': 0.0, 'max_features': 0.68, 'max_depth': 17, 'class_weight': None}\n",
      "훈련 점수: 0.691\n",
      "테스트 세트 점수: 0.687\n"
     ]
    }
   ],
   "source": [
    "params = {'min_samples_leaf':[18,19,20,21,22],\n",
    "          'min_impurity_decrease':[0.0],\n",
    "          'max_features':['auto',0.6,0.61,0.62,0.63,0.64,0.65,0.66,0.67,0.68,0.69,0.70],\n",
    "          'max_depth':[None,11,12,13,14,15,16,17,18],\n",
    "          'class_weight' : [None, 'balanced']}\n",
    "\n",
    "grid_search(DecisionTreeClassifier(random_state=42), params, random=True)"
   ]
  },
  {
   "cell_type": "code",
   "execution_count": 13,
   "metadata": {},
   "outputs": [
    {
     "name": "stdout",
     "output_type": "stream",
     "text": [
      "최상의 매개변수: {'n_estimators': 810, 'min_samples_leaf': 3, 'min_impurity_decrease': 0.0, 'max_features': 0.73, 'max_depth': 95}\n",
      "훈련 점수: 0.794\n",
      "테스트 세트 점수: 0.800\n"
     ]
    }
   ],
   "source": [
    "params = {'min_samples_leaf':[1,2,3,4,5,6,7,8,9],\n",
    "          'min_impurity_decrease':[0.0],\n",
    "          'max_features':[0.65,0.66,0.67,0.68,0.69,0.7,0.71,0.72,0.73,0.74,0.75],\n",
    "          'max_depth':[90,91,92,93,94,95,96,97,98,99,100],\n",
    "          'n_estimators' : [750,760,770,780,790,800,810,820,830,840,850]}\n",
    "\n",
    "grid_search(RandomForestClassifier(n_jobs=-1, random_state=42), params, random=True)"
   ]
  },
  {
   "cell_type": "code",
   "execution_count": 10,
   "metadata": {},
   "outputs": [
    {
     "name": "stdout",
     "output_type": "stream",
     "text": [
      "최상의 매개변수: {'objective': 'multi:softmax', 'n_estimators': 130, 'max_depth': 37, 'learning_rate': 0.18}\n",
      "훈련 점수: 0.788\n",
      "테스트 세트 점수: 0.795\n"
     ]
    }
   ],
   "source": [
    "params = {'n_estimators' : [130,150,170],\n",
    "          'learning_rate' : [0.18,0.2,0.22],\n",
    "          'max_depth' : [33,34,35,36,37],\n",
    "          'objective' : ['multi:softmax']}\n",
    "\n",
    "grid_search(XGBClassifier(random_state=42, n_jobs=-1), params, random=True)"
   ]
  },
  {
   "cell_type": "markdown",
   "metadata": {},
   "source": [
    "욕심내서 기본 학습기 gbtree, gblinear, dart 3개 비교해보려고 튜닝 돌렸는데 13시간 돌려도 안나와서 포기.......................... 원래 깔아놨던 파라미터만 튜닝"
   ]
  },
  {
   "cell_type": "markdown",
   "metadata": {},
   "source": [
    "⑥ LGBMClassifier 하이퍼파라미터 튜닝"
   ]
  },
  {
   "cell_type": "code",
   "execution_count": 11,
   "metadata": {},
   "outputs": [
    {
     "name": "stdout",
     "output_type": "stream",
     "text": [
      "[LightGBM] [Info] Auto-choosing col-wise multi-threading, the overhead of testing was 0.002590 seconds.\n",
      "You can set `force_col_wise=true` to remove the overhead.\n",
      "[LightGBM] [Info] Total Bins 1404\n",
      "[LightGBM] [Info] Number of data points in the train set: 63435, number of used features: 9\n",
      "[LightGBM] [Info] Start training from score -1.744243\n",
      "[LightGBM] [Info] Start training from score -1.208106\n",
      "[LightGBM] [Info] Start training from score -1.248814\n",
      "[LightGBM] [Info] Start training from score -1.982449\n",
      "[LightGBM] [Info] Start training from score -2.564256\n",
      "[LightGBM] [Info] Start training from score -3.885346\n",
      "[LightGBM] [Info] Start training from score -5.433754\n",
      "[LightGBM] [Warning] No further splits with positive gain, best gain: -inf\n",
      "[LightGBM] [Warning] No further splits with positive gain, best gain: -inf\n",
      "[LightGBM] [Warning] No further splits with positive gain, best gain: -inf\n",
      "[LightGBM] [Warning] No further splits with positive gain, best gain: -inf\n",
      "[LightGBM] [Warning] No further splits with positive gain, best gain: -inf\n",
      "최상의 매개변수: {'num_leaves': 45, 'n_estimators': 360, 'max_depth': 11, 'learning_rate': 0.09}\n",
      "훈련 점수: 0.785\n",
      "테스트 세트 점수: 0.775\n"
     ]
    }
   ],
   "source": [
    "params = {'n_estimators' : [340,350,360],\n",
    "          'learning_rate' : [0.05,0.06,0.07,0.08,0.09],\n",
    "          'max_depth' : [8,9,10,11,12],\n",
    "          'num_leaves' : [43,45,47]}\n",
    "\n",
    "grid_search(LGBMClassifier(objective='multiclass', random_state=42, n_jobs=-1), params, random=True)"
   ]
  },
  {
   "cell_type": "markdown",
   "metadata": {},
   "source": [
    "### StratifiedKFold를 이용한 스코어 산정"
   ]
  },
  {
   "cell_type": "code",
   "execution_count": 14,
   "metadata": {},
   "outputs": [],
   "source": [
    "X_ss = pd.DataFrame(X_ss, columns=X.columns)\n",
    "\n",
    "from sklearn.model_selection import StratifiedKFold\n",
    "\n",
    "skf = StratifiedKFold(n_splits=10, shuffle=True, random_state=42)\n",
    "\n",
    "f1_macro_scores = []\n",
    "\n",
    "def skf_score(model):\n",
    "    for train_idx, valid_idx in skf.split(X_ss, y):\n",
    "        X_train = X_ss.iloc[train_idx]\n",
    "        X_val = y.iloc[train_idx]\n",
    "\n",
    "        y_train = X_ss.iloc[valid_idx]\n",
    "        y_val = y.iloc[valid_idx]\n",
    "\n",
    "        model.fit(X_train, X_val)\n",
    "\n",
    "        pred = model.predict(y_train)\n",
    "\n",
    "        f1_macro = f1_score(y_val, pred, average='macro')\n",
    "        f1_macro_scores.append(f1_macro)\n",
    "    \n",
    "    average_f1_macro = np.mean(f1_macro_scores)\n",
    "\n",
    "    print(\"Average F1-macro score:\", average_f1_macro)\n",
    "    try:\n",
    "        if model.feature_importances_.any():\n",
    "            feature_importances = model.feature_importances_\n",
    "            print(\"\\n\",'-'*10,'특성중요도','-'*10)\n",
    "            for feature, importance in zip(X_ss.columns, feature_importances):\n",
    "                print(f\"{feature}: {importance}\")\n",
    "    except:\n",
    "        None"
   ]
  },
  {
   "cell_type": "code",
   "execution_count": 13,
   "metadata": {},
   "outputs": [
    {
     "name": "stdout",
     "output_type": "stream",
     "text": [
      "Average F1-macro score: 0.725750286030886\n",
      "\n",
      " ---------- 특성중요도 ----------\n",
      "대출금액: 0.043565903951824185\n",
      "대출기간: 0.04904212766776253\n",
      "연간소득: 0.018353171243394077\n",
      "부채_대비_소득_비율: 0.004422153852233158\n",
      "총계좌수: 0.0024230350508048634\n",
      "대출목적: 0.0022002837516323834\n",
      "최근_2년간_연체_횟수: 0.0009116126919420291\n",
      "총상환원금: 0.4558304869497931\n",
      "총상환이자: 0.4232512248406137\n"
     ]
    }
   ],
   "source": [
    "skf_score(DecisionTreeClassifier(min_samples_leaf=19, min_impurity_decrease= 0, max_features=0.68,\n",
    "                                 max_depth=17, class_weight=None, random_state=42))"
   ]
  },
  {
   "cell_type": "code",
   "execution_count": 15,
   "metadata": {},
   "outputs": [
    {
     "name": "stdout",
     "output_type": "stream",
     "text": [
      "Average F1-macro score: 0.8188658057990355\n",
      "\n",
      " ---------- 특성중요도 ----------\n",
      "대출금액: 0.07114289441263649\n",
      "대출기간: 0.03705193802839339\n",
      "연간소득: 0.032307919356093805\n",
      "부채_대비_소득_비율: 0.030466462533148504\n",
      "총계좌수: 0.022397910825849365\n",
      "대출목적: 0.007261120898961906\n",
      "최근_2년간_연체_횟수: 0.0037971483633356226\n",
      "총상환원금: 0.4238118682188787\n",
      "총상환이자: 0.37176273736270227\n"
     ]
    }
   ],
   "source": [
    "skf_score(RandomForestClassifier(n_estimators=810, min_samples_leaf=3, min_impurity_decrease=0, \n",
    "                                 max_features=0.73, max_depth=95, random_state=42, n_jobs=-1))"
   ]
  },
  {
   "cell_type": "code",
   "execution_count": 17,
   "metadata": {},
   "outputs": [
    {
     "name": "stdout",
     "output_type": "stream",
     "text": [
      "Average F1-macro score: 0.8093017599586311\n",
      "\n",
      " ---------- 특성중요도 ----------\n",
      "대출금액: 0.028552057221531868\n",
      "대출기간: 0.5786954164505005\n",
      "연간소득: 0.01842695288360119\n",
      "부채_대비_소득_비율: 0.013733377680182457\n",
      "총계좌수: 0.013640983030200005\n",
      "대출목적: 0.018290190026164055\n",
      "최근_2년간_연체_횟수: 0.016773225739598274\n",
      "총상환원금: 0.1495564728975296\n",
      "총상환이자: 0.16233129799365997\n"
     ]
    }
   ],
   "source": [
    "skf_score(XGBClassifier(objective='multi:softmax', n_estimators=130, max_depth=37, \n",
    "          learning_rate=0.18, n_jobs=-1, random_state=42))"
   ]
  },
  {
   "cell_type": "code",
   "execution_count": 16,
   "metadata": {},
   "outputs": [
    {
     "name": "stdout",
     "output_type": "stream",
     "text": [
      "[LightGBM] [Info] Auto-choosing col-wise multi-threading, the overhead of testing was 0.088524 seconds.\n",
      "You can set `force_col_wise=true` to remove the overhead.\n",
      "[LightGBM] [Info] Total Bins 1408\n",
      "[LightGBM] [Info] Number of data points in the train set: 81559, number of used features: 9\n",
      "[LightGBM] [Info] Start training from score -1.744289\n",
      "[LightGBM] [Info] Start training from score -1.208056\n",
      "[LightGBM] [Info] Start training from score -1.248847\n",
      "[LightGBM] [Info] Start training from score -1.982382\n",
      "[LightGBM] [Info] Start training from score -2.564275\n",
      "[LightGBM] [Info] Start training from score -3.885514\n",
      "[LightGBM] [Info] Start training from score -5.434151\n",
      "[LightGBM] [Warning] No further splits with positive gain, best gain: -inf\n",
      "[LightGBM] [Warning] No further splits with positive gain, best gain: -inf\n",
      "[LightGBM] [Info] Auto-choosing row-wise multi-threading, the overhead of testing was 0.001124 seconds.\n",
      "You can set `force_row_wise=true` to remove the overhead.\n",
      "And if memory is not enough, you can set `force_col_wise=true`.\n",
      "[LightGBM] [Info] Total Bins 1408\n",
      "[LightGBM] [Info] Number of data points in the train set: 81559, number of used features: 9\n",
      "[LightGBM] [Info] Start training from score -1.744289\n",
      "[LightGBM] [Info] Start training from score -1.208056\n",
      "[LightGBM] [Info] Start training from score -1.248847\n",
      "[LightGBM] [Info] Start training from score -1.982382\n",
      "[LightGBM] [Info] Start training from score -2.564275\n",
      "[LightGBM] [Info] Start training from score -3.884917\n",
      "[LightGBM] [Info] Start training from score -5.436964\n",
      "[LightGBM] [Warning] No further splits with positive gain, best gain: -inf\n",
      "[LightGBM] [Info] Auto-choosing col-wise multi-threading, the overhead of testing was 0.002395 seconds.\n",
      "You can set `force_col_wise=true` to remove the overhead.\n",
      "[LightGBM] [Info] Total Bins 1407\n",
      "[LightGBM] [Info] Number of data points in the train set: 81560, number of used features: 9\n",
      "[LightGBM] [Info] Start training from score -1.744301\n",
      "[LightGBM] [Info] Start training from score -1.208068\n",
      "[LightGBM] [Info] Start training from score -1.248859\n",
      "[LightGBM] [Info] Start training from score -1.982394\n",
      "[LightGBM] [Info] Start training from score -2.564128\n",
      "[LightGBM] [Info] Start training from score -3.884929\n",
      "[LightGBM] [Info] Start training from score -5.436976\n",
      "[LightGBM] [Info] Auto-choosing col-wise multi-threading, the overhead of testing was 0.001977 seconds.\n",
      "You can set `force_col_wise=true` to remove the overhead.\n",
      "[LightGBM] [Info] Total Bins 1408\n",
      "[LightGBM] [Info] Number of data points in the train set: 81560, number of used features: 9\n",
      "[LightGBM] [Info] Start training from score -1.744301\n",
      "[LightGBM] [Info] Start training from score -1.208068\n",
      "[LightGBM] [Info] Start training from score -1.248859\n",
      "[LightGBM] [Info] Start training from score -1.982394\n",
      "[LightGBM] [Info] Start training from score -2.564128\n",
      "[LightGBM] [Info] Start training from score -3.884929\n",
      "[LightGBM] [Info] Start training from score -5.436976\n",
      "[LightGBM] [Info] Auto-choosing col-wise multi-threading, the overhead of testing was 0.003229 seconds.\n",
      "You can set `force_col_wise=true` to remove the overhead.\n",
      "[LightGBM] [Info] Total Bins 1408\n",
      "[LightGBM] [Info] Number of data points in the train set: 81560, number of used features: 9\n",
      "[LightGBM] [Info] Start training from score -1.744301\n",
      "[LightGBM] [Info] Start training from score -1.208109\n",
      "[LightGBM] [Info] Start training from score -1.248817\n",
      "[LightGBM] [Info] Start training from score -1.982394\n",
      "[LightGBM] [Info] Start training from score -2.564128\n",
      "[LightGBM] [Info] Start training from score -3.884929\n",
      "[LightGBM] [Info] Start training from score -5.436976\n",
      "[LightGBM] [Info] Auto-choosing col-wise multi-threading, the overhead of testing was 0.076162 seconds.\n",
      "You can set `force_col_wise=true` to remove the overhead.\n",
      "[LightGBM] [Info] Total Bins 1407\n",
      "[LightGBM] [Info] Number of data points in the train set: 81560, number of used features: 9\n",
      "[LightGBM] [Info] Start training from score -1.744301\n",
      "[LightGBM] [Info] Start training from score -1.208109\n",
      "[LightGBM] [Info] Start training from score -1.248817\n",
      "[LightGBM] [Info] Start training from score -1.982394\n",
      "[LightGBM] [Info] Start training from score -2.564128\n",
      "[LightGBM] [Info] Start training from score -3.884929\n",
      "[LightGBM] [Info] Start training from score -5.436976\n",
      "[LightGBM] [Info] Auto-choosing col-wise multi-threading, the overhead of testing was 0.003473 seconds.\n",
      "You can set `force_col_wise=true` to remove the overhead.\n",
      "[LightGBM] [Info] Total Bins 1408\n",
      "[LightGBM] [Info] Number of data points in the train set: 81560, number of used features: 9\n",
      "[LightGBM] [Info] Start training from score -1.744301\n",
      "[LightGBM] [Info] Start training from score -1.208109\n",
      "[LightGBM] [Info] Start training from score -1.248817\n",
      "[LightGBM] [Info] Start training from score -1.982394\n",
      "[LightGBM] [Info] Start training from score -2.564287\n",
      "[LightGBM] [Info] Start training from score -3.884929\n",
      "[LightGBM] [Info] Start training from score -5.434163\n",
      "[LightGBM] [Warning] No further splits with positive gain, best gain: -inf\n",
      "[LightGBM] [Warning] No further splits with positive gain, best gain: -inf\n",
      "[LightGBM] [Warning] No further splits with positive gain, best gain: -inf\n",
      "[LightGBM] [Warning] No further splits with positive gain, best gain: -inf\n",
      "[LightGBM] [Warning] No further splits with positive gain, best gain: -inf\n",
      "[LightGBM] [Info] Auto-choosing col-wise multi-threading, the overhead of testing was 0.005222 seconds.\n",
      "You can set `force_col_wise=true` to remove the overhead.\n",
      "[LightGBM] [Info] Total Bins 1410\n",
      "[LightGBM] [Info] Number of data points in the train set: 81560, number of used features: 9\n",
      "[LightGBM] [Info] Start training from score -1.744231\n",
      "[LightGBM] [Info] Start training from score -1.208109\n",
      "[LightGBM] [Info] Start training from score -1.248817\n",
      "[LightGBM] [Info] Start training from score -1.982483\n",
      "[LightGBM] [Info] Start training from score -2.564287\n",
      "[LightGBM] [Info] Start training from score -3.884929\n",
      "[LightGBM] [Info] Start training from score -5.434163\n",
      "[LightGBM] [Warning] No further splits with positive gain, best gain: -inf\n",
      "[LightGBM] [Warning] No further splits with positive gain, best gain: -inf\n",
      "[LightGBM] [Info] Auto-choosing row-wise multi-threading, the overhead of testing was 0.000862 seconds.\n",
      "You can set `force_row_wise=true` to remove the overhead.\n",
      "And if memory is not enough, you can set `force_col_wise=true`.\n",
      "[LightGBM] [Info] Total Bins 1408\n",
      "[LightGBM] [Info] Number of data points in the train set: 81560, number of used features: 9\n",
      "[LightGBM] [Info] Start training from score -1.744231\n",
      "[LightGBM] [Info] Start training from score -1.208109\n",
      "[LightGBM] [Info] Start training from score -1.248817\n",
      "[LightGBM] [Info] Start training from score -1.982483\n",
      "[LightGBM] [Info] Start training from score -2.564287\n",
      "[LightGBM] [Info] Start training from score -3.884929\n",
      "[LightGBM] [Info] Start training from score -5.434163\n",
      "[LightGBM] [Info] Auto-choosing col-wise multi-threading, the overhead of testing was 0.008143 seconds.\n",
      "You can set `force_col_wise=true` to remove the overhead.\n",
      "[LightGBM] [Info] Total Bins 1409\n",
      "[LightGBM] [Info] Number of data points in the train set: 81560, number of used features: 9\n",
      "[LightGBM] [Info] Start training from score -1.744301\n",
      "[LightGBM] [Info] Start training from score -1.208068\n",
      "[LightGBM] [Info] Start training from score -1.248817\n",
      "[LightGBM] [Info] Start training from score -1.982394\n",
      "[LightGBM] [Info] Start training from score -2.564287\n",
      "[LightGBM] [Info] Start training from score -3.885526\n",
      "[LightGBM] [Info] Start training from score -5.434163\n",
      "Average F1-macro score: 0.8085671220859905\n",
      "\n",
      " ---------- 특성중요도 ----------\n",
      "대출금액: 18151\n",
      "대출기간: 2328\n",
      "연간소득: 12205\n",
      "부채_대비_소득_비율: 14427\n",
      "총계좌수: 10429\n",
      "대출목적: 3324\n",
      "최근_2년간_연체_횟수: 1877\n",
      "총상환원금: 26437\n",
      "총상환이자: 21702\n"
     ]
    }
   ],
   "source": [
    "skf_score(LGBMClassifier(objective='multiclass', num_leaves=45, n_estimators=360, max_depth=11, \n",
    "               learning_rate=0.09, n_jobs=-1, random_state=42))"
   ]
  },
  {
   "cell_type": "markdown",
   "metadata": {},
   "source": [
    "model|k-Fold|Sk-Fold\n",
    "-|-|-\n",
    "DecisionTree Classifier|0.687|0.725750286030886\n",
    "RandomForest Classifier|0.800|0.8188658057990355 --> 최고 성능\n",
    "XGBoost Classifier|0.795|0.8093017599586311\n",
    "Light GBM Classifier|0.775|0.8085671220859905"
   ]
  }
 ],
 "metadata": {
  "kernelspec": {
   "display_name": "Python 3",
   "language": "python",
   "name": "python3"
  },
  "language_info": {
   "codemirror_mode": {
    "name": "ipython",
    "version": 3
   },
   "file_extension": ".py",
   "mimetype": "text/x-python",
   "name": "python",
   "nbconvert_exporter": "python",
   "pygments_lexer": "ipython3",
   "version": "3.12.0"
  }
 },
 "nbformat": 4,
 "nbformat_minor": 2
}
