{
 "cells": [
  {
   "cell_type": "markdown",
   "metadata": {},
   "source": [
    "Feature Engineering에서 가장 좋은 성능을 보였던 데이터 (10개 컬럼) 를 가지고\n",
    "\n",
    "RFE를 사용하여 최적의 특성 집합을 뽑아 모델링 해보자"
   ]
  },
  {
   "cell_type": "code",
   "execution_count": 50,
   "metadata": {},
   "outputs": [],
   "source": [
    "import pandas as pd\n",
    "import numpy as np\n",
    "import warnings\n",
    "from sklearn.preprocessing import LabelEncoder\n",
    "from sklearn.preprocessing import StandardScaler\n",
    "from sklearn.tree import DecisionTreeClassifier\n",
    "from sklearn.ensemble import RandomForestClassifier\n",
    "from xgboost import XGBClassifier\n",
    "from lightgbm import LGBMClassifier\n",
    "from sklearn.model_selection import GridSearchCV, RandomizedSearchCV\n",
    "from sklearn.metrics import f1_score\n",
    "from sklearn.model_selection import train_test_split\n",
    "from sklearn.model_selection import StratifiedKFold\n",
    "from sklearn.feature_selection import RFE, RFECV\n",
    "warnings.filterwarnings('ignore')"
   ]
  },
  {
   "cell_type": "code",
   "execution_count": 51,
   "metadata": {},
   "outputs": [],
   "source": [
    "train = pd.read_csv('./train_new.csv')\n",
    "\n",
    "train.drop(['ID', '근로기간', '연간소득', '주택소유상태', '최근_2년간_연체_횟수', \n",
    "            '부채_대비_소득_비율', '총계좌수', '대출목적', '총연체금액', '연체계좌수'], axis=1, inplace=True)\n",
    "\n",
    "train['대출금액*대출기간'] = train['대출금액'] * train['대출기간']\n",
    "train['대출금액/대출기간'] = train['대출금액'] / train['대출기간']\n",
    "\n",
    "train['총상환원금*대출기간'] = train['총상환원금'] * train['대출기간']\n",
    "train['총상환이자*대출기간'] = train['총상환이자'] * train['대출기간']\n",
    "\n",
    "train['총상환원금/대출기간'] = train['총상환원금'] / train['대출기간']\n",
    "train['총상환이자/대출기간'] = train['총상환이자'] / train['대출기간']\n",
    "\n",
    "le = LabelEncoder()\n",
    "\n",
    "train['대출등급'] = le.fit_transform(train['대출등급'])\n",
    "\n",
    "X = train.loc[:, train.columns != '대출등급']\n",
    "y = train.loc[:, '대출등급']\n",
    "\n",
    "ss = StandardScaler()\n",
    "\n",
    "X_ss = ss.fit_transform(X)\n",
    "\n",
    "X_train, X_val, y_train, y_val = train_test_split(X_ss, y, test_size=0.3, stratify=y, random_state=42)"
   ]
  },
  {
   "cell_type": "code",
   "execution_count": 52,
   "metadata": {},
   "outputs": [
    {
     "data": {
      "text/html": [
       "<div>\n",
       "<style scoped>\n",
       "    .dataframe tbody tr th:only-of-type {\n",
       "        vertical-align: middle;\n",
       "    }\n",
       "\n",
       "    .dataframe tbody tr th {\n",
       "        vertical-align: top;\n",
       "    }\n",
       "\n",
       "    .dataframe thead th {\n",
       "        text-align: right;\n",
       "    }\n",
       "</style>\n",
       "<table border=\"1\" class=\"dataframe\">\n",
       "  <thead>\n",
       "    <tr style=\"text-align: right;\">\n",
       "      <th></th>\n",
       "      <th>대출금액</th>\n",
       "      <th>대출기간</th>\n",
       "      <th>총상환원금</th>\n",
       "      <th>총상환이자</th>\n",
       "      <th>대출금액*대출기간</th>\n",
       "      <th>대출금액/대출기간</th>\n",
       "      <th>총상환원금*대출기간</th>\n",
       "      <th>총상환이자*대출기간</th>\n",
       "      <th>총상환원금/대출기간</th>\n",
       "      <th>총상환이자/대출기간</th>\n",
       "    </tr>\n",
       "  </thead>\n",
       "  <tbody>\n",
       "    <tr>\n",
       "      <th>0</th>\n",
       "      <td>12480000</td>\n",
       "      <td>3</td>\n",
       "      <td>0</td>\n",
       "      <td>0.0</td>\n",
       "      <td>37440000</td>\n",
       "      <td>4160000.0</td>\n",
       "      <td>0</td>\n",
       "      <td>0.0</td>\n",
       "      <td>0.0</td>\n",
       "      <td>0.0</td>\n",
       "    </tr>\n",
       "    <tr>\n",
       "      <th>1</th>\n",
       "      <td>14400000</td>\n",
       "      <td>5</td>\n",
       "      <td>373572</td>\n",
       "      <td>234060.0</td>\n",
       "      <td>72000000</td>\n",
       "      <td>2880000.0</td>\n",
       "      <td>1867860</td>\n",
       "      <td>1170300.0</td>\n",
       "      <td>74714.4</td>\n",
       "      <td>46812.0</td>\n",
       "    </tr>\n",
       "    <tr>\n",
       "      <th>2</th>\n",
       "      <td>12000000</td>\n",
       "      <td>3</td>\n",
       "      <td>928644</td>\n",
       "      <td>151944.0</td>\n",
       "      <td>36000000</td>\n",
       "      <td>4000000.0</td>\n",
       "      <td>2785932</td>\n",
       "      <td>455832.0</td>\n",
       "      <td>309548.0</td>\n",
       "      <td>50648.0</td>\n",
       "    </tr>\n",
       "    <tr>\n",
       "      <th>3</th>\n",
       "      <td>14400000</td>\n",
       "      <td>3</td>\n",
       "      <td>325824</td>\n",
       "      <td>153108.0</td>\n",
       "      <td>43200000</td>\n",
       "      <td>4800000.0</td>\n",
       "      <td>977472</td>\n",
       "      <td>459324.0</td>\n",
       "      <td>108608.0</td>\n",
       "      <td>51036.0</td>\n",
       "    </tr>\n",
       "    <tr>\n",
       "      <th>4</th>\n",
       "      <td>4800000</td>\n",
       "      <td>3</td>\n",
       "      <td>240216</td>\n",
       "      <td>55428.0</td>\n",
       "      <td>14400000</td>\n",
       "      <td>1600000.0</td>\n",
       "      <td>720648</td>\n",
       "      <td>166284.0</td>\n",
       "      <td>80072.0</td>\n",
       "      <td>18476.0</td>\n",
       "    </tr>\n",
       "    <tr>\n",
       "      <th>...</th>\n",
       "      <td>...</td>\n",
       "      <td>...</td>\n",
       "      <td>...</td>\n",
       "      <td>...</td>\n",
       "      <td>...</td>\n",
       "      <td>...</td>\n",
       "      <td>...</td>\n",
       "      <td>...</td>\n",
       "      <td>...</td>\n",
       "      <td>...</td>\n",
       "    </tr>\n",
       "    <tr>\n",
       "      <th>90617</th>\n",
       "      <td>14400000</td>\n",
       "      <td>3</td>\n",
       "      <td>974580</td>\n",
       "      <td>492168.0</td>\n",
       "      <td>43200000</td>\n",
       "      <td>4800000.0</td>\n",
       "      <td>2923740</td>\n",
       "      <td>1476504.0</td>\n",
       "      <td>324860.0</td>\n",
       "      <td>164056.0</td>\n",
       "    </tr>\n",
       "    <tr>\n",
       "      <th>90618</th>\n",
       "      <td>28800000</td>\n",
       "      <td>5</td>\n",
       "      <td>583728</td>\n",
       "      <td>855084.0</td>\n",
       "      <td>144000000</td>\n",
       "      <td>5760000.0</td>\n",
       "      <td>2918640</td>\n",
       "      <td>4275420.0</td>\n",
       "      <td>116745.6</td>\n",
       "      <td>171016.8</td>\n",
       "    </tr>\n",
       "    <tr>\n",
       "      <th>90619</th>\n",
       "      <td>14400000</td>\n",
       "      <td>3</td>\n",
       "      <td>1489128</td>\n",
       "      <td>241236.0</td>\n",
       "      <td>43200000</td>\n",
       "      <td>4800000.0</td>\n",
       "      <td>4467384</td>\n",
       "      <td>723708.0</td>\n",
       "      <td>496376.0</td>\n",
       "      <td>80412.0</td>\n",
       "    </tr>\n",
       "    <tr>\n",
       "      <th>90620</th>\n",
       "      <td>15600000</td>\n",
       "      <td>3</td>\n",
       "      <td>1378368</td>\n",
       "      <td>818076.0</td>\n",
       "      <td>46800000</td>\n",
       "      <td>5200000.0</td>\n",
       "      <td>4135104</td>\n",
       "      <td>2454228.0</td>\n",
       "      <td>459456.0</td>\n",
       "      <td>272692.0</td>\n",
       "    </tr>\n",
       "    <tr>\n",
       "      <th>90621</th>\n",
       "      <td>8640000</td>\n",
       "      <td>3</td>\n",
       "      <td>596148</td>\n",
       "      <td>274956.0</td>\n",
       "      <td>25920000</td>\n",
       "      <td>2880000.0</td>\n",
       "      <td>1788444</td>\n",
       "      <td>824868.0</td>\n",
       "      <td>198716.0</td>\n",
       "      <td>91652.0</td>\n",
       "    </tr>\n",
       "  </tbody>\n",
       "</table>\n",
       "<p>90622 rows × 10 columns</p>\n",
       "</div>"
      ],
      "text/plain": [
       "           대출금액  대출기간    총상환원금     총상환이자  대출금액*대출기간  대출금액/대출기간  총상환원금*대출기간  \\\n",
       "0      12480000     3        0       0.0   37440000  4160000.0           0   \n",
       "1      14400000     5   373572  234060.0   72000000  2880000.0     1867860   \n",
       "2      12000000     3   928644  151944.0   36000000  4000000.0     2785932   \n",
       "3      14400000     3   325824  153108.0   43200000  4800000.0      977472   \n",
       "4       4800000     3   240216   55428.0   14400000  1600000.0      720648   \n",
       "...         ...   ...      ...       ...        ...        ...         ...   \n",
       "90617  14400000     3   974580  492168.0   43200000  4800000.0     2923740   \n",
       "90618  28800000     5   583728  855084.0  144000000  5760000.0     2918640   \n",
       "90619  14400000     3  1489128  241236.0   43200000  4800000.0     4467384   \n",
       "90620  15600000     3  1378368  818076.0   46800000  5200000.0     4135104   \n",
       "90621   8640000     3   596148  274956.0   25920000  2880000.0     1788444   \n",
       "\n",
       "       총상환이자*대출기간  총상환원금/대출기간  총상환이자/대출기간  \n",
       "0             0.0         0.0         0.0  \n",
       "1       1170300.0     74714.4     46812.0  \n",
       "2        455832.0    309548.0     50648.0  \n",
       "3        459324.0    108608.0     51036.0  \n",
       "4        166284.0     80072.0     18476.0  \n",
       "...           ...         ...         ...  \n",
       "90617   1476504.0    324860.0    164056.0  \n",
       "90618   4275420.0    116745.6    171016.8  \n",
       "90619    723708.0    496376.0     80412.0  \n",
       "90620   2454228.0    459456.0    272692.0  \n",
       "90621    824868.0    198716.0     91652.0  \n",
       "\n",
       "[90622 rows x 10 columns]"
      ]
     },
     "execution_count": 52,
     "metadata": {},
     "output_type": "execute_result"
    }
   ],
   "source": [
    "X"
   ]
  },
  {
   "cell_type": "code",
   "execution_count": 19,
   "metadata": {},
   "outputs": [],
   "source": [
    "# 최종데이터 저장\n",
    "train[['총상환원금','총상환원금*대출기간','총상환이자*대출기간','총상환원금/대출기간','총상환이자/대출기간','대출등급']].to_csv('train_최종.csv', index=False)"
   ]
  },
  {
   "cell_type": "code",
   "execution_count": 12,
   "metadata": {},
   "outputs": [
    {
     "name": "stdout",
     "output_type": "stream",
     "text": [
      "[False  True False False False False  True  True  True  True]\n"
     ]
    }
   ],
   "source": [
    "model = XGBClassifier(objective='multi:softmax', n_estimators=50, max_depth=40, \n",
    "          learning_rate=0.4, n_jobs=-1, random_state=42)\n",
    "\n",
    "rfe = RFE(model)\n",
    "\n",
    "rfe.fit(X_train, y_train)\n",
    "\n",
    "selected_features = rfe.support_\n",
    "print(selected_features)"
   ]
  },
  {
   "cell_type": "markdown",
   "metadata": {},
   "source": [
    "1,6,7,8,9번째 컬럼이 선택되었음, 적용해서 SKFold go"
   ]
  },
  {
   "cell_type": "code",
   "execution_count": 17,
   "metadata": {},
   "outputs": [],
   "source": [
    "indices_of_true = list(np.where(selected_features)[0])\n",
    "X = train.loc[:, train.columns[indices_of_true]]\n",
    "X_ss = ss.fit_transform(X)\n",
    "X_train, X_val, y_train, y_val = train_test_split(X_ss, y, test_size=0.3, stratify=y, random_state=42)"
   ]
  },
  {
   "cell_type": "code",
   "execution_count": 53,
   "metadata": {},
   "outputs": [],
   "source": [
    "def grid_search(model, params, random=False):\n",
    "    clf = model\n",
    "    if not random:\n",
    "        grid = GridSearchCV(clf, params,\n",
    "                                scoring='f1_macro', cv=5,\n",
    "                                n_jobs=-1)\n",
    "    else:\n",
    "        grid = RandomizedSearchCV(clf, params, n_iter=10,\n",
    "                                scoring='f1_macro', cv=5,\n",
    "                                n_jobs=-1, random_state=42)\n",
    "        \n",
    "    grid.fit(X_train, y_train)\n",
    "    \n",
    "    \n",
    "    best_model = grid.best_estimator_\n",
    "    \n",
    "    best_params = grid.best_params_\n",
    "    print(\"최상의 매개변수:\", best_params)\n",
    "    \n",
    "    best_score = grid.best_score_\n",
    "    print(\"훈련 점수: {:.3f}\".format(best_score))\n",
    "    \n",
    "    y_pred = best_model.predict(X_val)\n",
    "    macro_f1_val = f1_score(y_val, y_pred, average='macro')\n",
    "    print('테스트 세트 점수: {:.3f}'.format(macro_f1_val))"
   ]
  },
  {
   "cell_type": "code",
   "execution_count": 29,
   "metadata": {},
   "outputs": [
    {
     "name": "stdout",
     "output_type": "stream",
     "text": [
      "최상의 매개변수: {'objective': 'multi:softprob', 'n_estimators': 50, 'max_depth': 40, 'learning_rate': 0.4}\n",
      "훈련 점수: 0.829\n",
      "테스트 세트 점수: 0.825\n"
     ]
    }
   ],
   "source": [
    "params = {'n_estimators' : [50,100,200,300,400,500],\n",
    "          'learning_rate' : [0.01,0.05,0.1,0.2,0.3,0.4],\n",
    "          'max_depth' : [6,10,20,30,40,50,100],\n",
    "          'objective' : ['multi:softmax']}\n",
    "\n",
    "grid_search(XGBClassifier(random_state=42, n_jobs=-1), params, random=True)"
   ]
  },
  {
   "cell_type": "markdown",
   "metadata": {},
   "source": [
    "최상의 매개변수: {'objective': 'multi:softprob', 'n_estimators': 50, 'max_depth': 40, 'learning_rate': 0.4}\n",
    "훈련 점수: 0.829\n",
    "테스트 세트 점수: 0.825"
   ]
  },
  {
   "cell_type": "code",
   "execution_count": 45,
   "metadata": {},
   "outputs": [],
   "source": [
    "X_ss = pd.DataFrame(X_ss, columns=X.columns)\n",
    "y = pd.DataFrame(y)\n",
    "\n",
    "skf = StratifiedKFold(n_splits=10, shuffle=True, random_state=42)\n",
    "\n",
    "f1_macro_scores = []\n",
    "\n",
    "def skf_score(model):\n",
    "    for train_idx, valid_idx in skf.split(X_ss, y):\n",
    "        X_train = X_ss.iloc[train_idx]\n",
    "        X_val = y.iloc[train_idx]\n",
    "\n",
    "        y_train = X_ss.iloc[valid_idx]\n",
    "        y_val = y.iloc[valid_idx]\n",
    "\n",
    "        model.fit(X_train, X_val)\n",
    "\n",
    "        pred = model.predict(y_train)\n",
    "\n",
    "        f1_macro = f1_score(y_val, pred, average='macro')\n",
    "        f1_macro_scores.append(f1_macro)\n",
    "    \n",
    "    average_f1_macro = np.mean(f1_macro_scores)\n",
    "\n",
    "    print(\"Average F1-macro score:\", average_f1_macro)\n",
    "    try:\n",
    "        if model.feature_importances_.any():\n",
    "            feature_importances = model.feature_importances_\n",
    "            print(\"\\n\",'-'*10,'특성중요도','-'*10)\n",
    "            for feature, importance in zip(X_ss.columns, feature_importances):\n",
    "                print(f\"{feature}: {importance}\")\n",
    "    except:\n",
    "        None"
   ]
  },
  {
   "cell_type": "code",
   "execution_count": 31,
   "metadata": {},
   "outputs": [
    {
     "name": "stdout",
     "output_type": "stream",
     "text": [
      "Average F1-macro score: 0.8489262679454228\n",
      "\n",
      " ---------- 특성중요도 ----------\n",
      "대출기간: 0.661698043346405\n",
      "대출금액/대출기간: 0.01999281533062458\n",
      "총상환원금*대출기간: 0.08542182296514511\n",
      "총상환이자*대출기간: 0.11432438343763351\n",
      "총상환원금/대출기간: 0.11856291443109512\n"
     ]
    }
   ],
   "source": [
    "skf_score(XGBClassifier(objective='multi:softmax', n_estimators=50, max_depth=40, \n",
    "          learning_rate=0.4, n_jobs=-1, random_state=42))"
   ]
  },
  {
   "cell_type": "markdown",
   "metadata": {},
   "source": [
    "* DecisionTree RFE"
   ]
  },
  {
   "cell_type": "code",
   "execution_count": 4,
   "metadata": {},
   "outputs": [
    {
     "name": "stdout",
     "output_type": "stream",
     "text": [
      "[False False False  True False False  True  True  True  True]\n"
     ]
    }
   ],
   "source": [
    "model = DecisionTreeClassifier(min_samples_leaf=19, min_impurity_decrease= 0, max_features=0.68,\n",
    "                                 max_depth=17, class_weight=None, random_state=42)\n",
    "rfe = RFE(model)\n",
    "\n",
    "rfe.fit(X_train, y_train)\n",
    "\n",
    "selected_features = rfe.support_\n",
    "print(selected_features)"
   ]
  },
  {
   "cell_type": "code",
   "execution_count": 4,
   "metadata": {},
   "outputs": [],
   "source": [
    "indices_of_true = list(np.where(selected_features)[0])\n",
    "X = train.loc[:, train.columns[indices_of_true]]\n",
    "X_ss = ss.fit_transform(X)\n",
    "X_train, X_val, y_train, y_val = train_test_split(X_ss, y, test_size=0.3, stratify=y, random_state=42)"
   ]
  },
  {
   "cell_type": "code",
   "execution_count": 10,
   "metadata": {},
   "outputs": [
    {
     "name": "stdout",
     "output_type": "stream",
     "text": [
      "최상의 매개변수: {'min_samples_leaf': 18, 'min_impurity_decrease': 0.0, 'max_features': 0.65, 'max_depth': 15, 'class_weight': None}\n",
      "훈련 점수: 0.752\n",
      "테스트 세트 점수: 0.747\n"
     ]
    }
   ],
   "source": [
    "params = {'min_samples_leaf':[18,19,20,21,22],\n",
    "          'min_impurity_decrease':[0.0],\n",
    "          'max_features':['auto',0.6,0.61,0.62,0.63,0.64,0.65,0.66,0.67,0.68,0.69,0.70],\n",
    "          'max_depth':[None,11,12,13,14,15,16,17,18],\n",
    "          'class_weight' : [None, 'balanced']}\n",
    "\n",
    "grid_search(DecisionTreeClassifier(random_state=42), params, random=True)"
   ]
  },
  {
   "cell_type": "code",
   "execution_count": 12,
   "metadata": {},
   "outputs": [],
   "source": [
    "X_ss = pd.DataFrame(X_ss, columns=X.columns)\n",
    "y = pd.DataFrame(y)"
   ]
  },
  {
   "cell_type": "code",
   "execution_count": 13,
   "metadata": {},
   "outputs": [
    {
     "name": "stdout",
     "output_type": "stream",
     "text": [
      "Average F1-macro score: 0.7777502879496405\n",
      "\n",
      " ---------- 특성중요도 ----------\n",
      "총상환이자: 0.23804910992262585\n",
      "대출금액/대출기간: 0.037187671370198565\n",
      "총상환원금*대출기간: 0.2532472581864127\n",
      "총상환이자*대출기간: 0.24442337301125633\n",
      "총상환원금/대출기간: 0.22709258750950667\n"
     ]
    }
   ],
   "source": [
    "skf_score(DecisionTreeClassifier(min_samples_leaf=18, min_impurity_decrease=0, max_features=0.65,\n",
    "                                 max_depth=15, class_weight=None, random_state=42))"
   ]
  },
  {
   "cell_type": "markdown",
   "metadata": {},
   "source": [
    "* RandomForest RFE"
   ]
  },
  {
   "cell_type": "code",
   "execution_count": 54,
   "metadata": {},
   "outputs": [
    {
     "name": "stdout",
     "output_type": "stream",
     "text": [
      "[False False  True False False False  True  True  True  True]\n"
     ]
    }
   ],
   "source": [
    "model = RandomForestClassifier(n_estimators=770, min_samples_leaf=1, min_impurity_decrease=0,\n",
    "                               max_depth=95, random_state=42, n_jobs=-1)\n",
    "\n",
    "rfe = RFE(model)\n",
    "\n",
    "rfe.fit(X_train, y_train)\n",
    "\n",
    "selected_features = rfe.support_\n",
    "print(selected_features)"
   ]
  },
  {
   "cell_type": "markdown",
   "metadata": {},
   "source": [
    "* RandomForest RFECV"
   ]
  },
  {
   "cell_type": "code",
   "execution_count": 22,
   "metadata": {},
   "outputs": [
    {
     "name": "stdout",
     "output_type": "stream",
     "text": [
      "[ True False  True  True  True  True  True  True  True  True]\n"
     ]
    }
   ],
   "source": [
    "model = RandomForestClassifier(n_estimators=770, min_samples_leaf=1, min_impurity_decrease=0, \n",
    "                               max_depth=95, random_state=42, n_jobs=-1)\n",
    "\n",
    "rfecv = RFECV(model, step=1, cv=5, min_features_to_select=5)\n",
    "\n",
    "rfecv.fit(X_train, y_train)\n",
    "\n",
    "selected_features = rfecv.support_\n",
    "print(selected_features)"
   ]
  },
  {
   "cell_type": "code",
   "execution_count": 55,
   "metadata": {},
   "outputs": [],
   "source": [
    "indices_of_true = list(np.where(selected_features)[0])\n",
    "X = X.loc[:, X.columns[indices_of_true]]\n",
    "X_ss = ss.fit_transform(X)\n",
    "X_train, X_val, y_train, y_val = train_test_split(X_ss, y, test_size=0.3, stratify=y, random_state=42)"
   ]
  },
  {
   "cell_type": "code",
   "execution_count": 56,
   "metadata": {},
   "outputs": [
    {
     "data": {
      "text/html": [
       "<div>\n",
       "<style scoped>\n",
       "    .dataframe tbody tr th:only-of-type {\n",
       "        vertical-align: middle;\n",
       "    }\n",
       "\n",
       "    .dataframe tbody tr th {\n",
       "        vertical-align: top;\n",
       "    }\n",
       "\n",
       "    .dataframe thead th {\n",
       "        text-align: right;\n",
       "    }\n",
       "</style>\n",
       "<table border=\"1\" class=\"dataframe\">\n",
       "  <thead>\n",
       "    <tr style=\"text-align: right;\">\n",
       "      <th></th>\n",
       "      <th>총상환원금</th>\n",
       "      <th>총상환원금*대출기간</th>\n",
       "      <th>총상환이자*대출기간</th>\n",
       "      <th>총상환원금/대출기간</th>\n",
       "      <th>총상환이자/대출기간</th>\n",
       "    </tr>\n",
       "  </thead>\n",
       "  <tbody>\n",
       "    <tr>\n",
       "      <th>0</th>\n",
       "      <td>0</td>\n",
       "      <td>0</td>\n",
       "      <td>0.0</td>\n",
       "      <td>0.0</td>\n",
       "      <td>0.0</td>\n",
       "    </tr>\n",
       "    <tr>\n",
       "      <th>1</th>\n",
       "      <td>373572</td>\n",
       "      <td>1867860</td>\n",
       "      <td>1170300.0</td>\n",
       "      <td>74714.4</td>\n",
       "      <td>46812.0</td>\n",
       "    </tr>\n",
       "    <tr>\n",
       "      <th>2</th>\n",
       "      <td>928644</td>\n",
       "      <td>2785932</td>\n",
       "      <td>455832.0</td>\n",
       "      <td>309548.0</td>\n",
       "      <td>50648.0</td>\n",
       "    </tr>\n",
       "    <tr>\n",
       "      <th>3</th>\n",
       "      <td>325824</td>\n",
       "      <td>977472</td>\n",
       "      <td>459324.0</td>\n",
       "      <td>108608.0</td>\n",
       "      <td>51036.0</td>\n",
       "    </tr>\n",
       "    <tr>\n",
       "      <th>4</th>\n",
       "      <td>240216</td>\n",
       "      <td>720648</td>\n",
       "      <td>166284.0</td>\n",
       "      <td>80072.0</td>\n",
       "      <td>18476.0</td>\n",
       "    </tr>\n",
       "    <tr>\n",
       "      <th>...</th>\n",
       "      <td>...</td>\n",
       "      <td>...</td>\n",
       "      <td>...</td>\n",
       "      <td>...</td>\n",
       "      <td>...</td>\n",
       "    </tr>\n",
       "    <tr>\n",
       "      <th>90617</th>\n",
       "      <td>974580</td>\n",
       "      <td>2923740</td>\n",
       "      <td>1476504.0</td>\n",
       "      <td>324860.0</td>\n",
       "      <td>164056.0</td>\n",
       "    </tr>\n",
       "    <tr>\n",
       "      <th>90618</th>\n",
       "      <td>583728</td>\n",
       "      <td>2918640</td>\n",
       "      <td>4275420.0</td>\n",
       "      <td>116745.6</td>\n",
       "      <td>171016.8</td>\n",
       "    </tr>\n",
       "    <tr>\n",
       "      <th>90619</th>\n",
       "      <td>1489128</td>\n",
       "      <td>4467384</td>\n",
       "      <td>723708.0</td>\n",
       "      <td>496376.0</td>\n",
       "      <td>80412.0</td>\n",
       "    </tr>\n",
       "    <tr>\n",
       "      <th>90620</th>\n",
       "      <td>1378368</td>\n",
       "      <td>4135104</td>\n",
       "      <td>2454228.0</td>\n",
       "      <td>459456.0</td>\n",
       "      <td>272692.0</td>\n",
       "    </tr>\n",
       "    <tr>\n",
       "      <th>90621</th>\n",
       "      <td>596148</td>\n",
       "      <td>1788444</td>\n",
       "      <td>824868.0</td>\n",
       "      <td>198716.0</td>\n",
       "      <td>91652.0</td>\n",
       "    </tr>\n",
       "  </tbody>\n",
       "</table>\n",
       "<p>90622 rows × 5 columns</p>\n",
       "</div>"
      ],
      "text/plain": [
       "         총상환원금  총상환원금*대출기간  총상환이자*대출기간  총상환원금/대출기간  총상환이자/대출기간\n",
       "0            0           0         0.0         0.0         0.0\n",
       "1       373572     1867860   1170300.0     74714.4     46812.0\n",
       "2       928644     2785932    455832.0    309548.0     50648.0\n",
       "3       325824      977472    459324.0    108608.0     51036.0\n",
       "4       240216      720648    166284.0     80072.0     18476.0\n",
       "...        ...         ...         ...         ...         ...\n",
       "90617   974580     2923740   1476504.0    324860.0    164056.0\n",
       "90618   583728     2918640   4275420.0    116745.6    171016.8\n",
       "90619  1489128     4467384    723708.0    496376.0     80412.0\n",
       "90620  1378368     4135104   2454228.0    459456.0    272692.0\n",
       "90621   596148     1788444    824868.0    198716.0     91652.0\n",
       "\n",
       "[90622 rows x 5 columns]"
      ]
     },
     "execution_count": 56,
     "metadata": {},
     "output_type": "execute_result"
    }
   ],
   "source": [
    "X"
   ]
  },
  {
   "cell_type": "code",
   "execution_count": 57,
   "metadata": {},
   "outputs": [],
   "source": [
    "X_ss = pd.DataFrame(X_ss, columns=X.columns)\n",
    "y = pd.DataFrame(y)"
   ]
  },
  {
   "cell_type": "markdown",
   "metadata": {},
   "source": [
    "* RFE 결과 (5개 컬럼)"
   ]
  },
  {
   "cell_type": "code",
   "execution_count": 59,
   "metadata": {},
   "outputs": [
    {
     "name": "stdout",
     "output_type": "stream",
     "text": [
      "Average F1-macro score: 0.8331198292611628\n",
      "\n",
      " ---------- 특성중요도 ----------\n",
      "총상환원금: 0.1707860211868218\n",
      "총상환원금*대출기간: 0.18923458565216014\n",
      "총상환이자*대출기간: 0.23530360829164357\n",
      "총상환원금/대출기간: 0.16499245610770408\n",
      "총상환이자/대출기간: 0.2396833287616705\n"
     ]
    }
   ],
   "source": [
    "skf_score(RandomForestClassifier(n_estimators=770, min_samples_leaf=1, min_impurity_decrease=0,\n",
    "                                 max_features=0.7, max_depth=99, random_state=42, n_jobs=-1))"
   ]
  },
  {
   "cell_type": "markdown",
   "metadata": {},
   "source": [
    "--> 결과 날아가서 다음 날 다시했더니 0.8499651809840966에서 0.8331198292611628로 바뀌었다.. Why? 랜덤시드 이슈????\n",
    "\n",
    "어쨌든 결과를 이미 기록해두었으니 그대로 이용하자.."
   ]
  },
  {
   "cell_type": "markdown",
   "metadata": {},
   "source": [
    "RFECV를 적용한결과 RFE보다 0.0004점 낮게 나옴"
   ]
  },
  {
   "cell_type": "markdown",
   "metadata": {},
   "source": [
    "* RFECV 결과 (9개 컬럼)\n",
    "\n",
    "Average F1-macro score: 0.849547912699314\n",
    "\n",
    " ---------- 특성중요도 ----------\n",
    "\n",
    "대출금액: 0.03616528765301695\n",
    "\n",
    "총상환원금: 0.15239655350743023\n",
    "\n",
    "총상환이자: 0.13747149025595118\n",
    "\n",
    "대출금액*대출기간: 0.04060973134659964\n",
    "\n",
    "대출금액/대출기간: 0.038496830939239265\n",
    "\n",
    "총상환원금*대출기간: 0.1678831708944553\n",
    "\n",
    "총상환이자*대출기간: 0.14018528448684664\n",
    "\n",
    "총상환원금/대출기간: 0.1520173273525923\n",
    "\n",
    "총상환이자/대출기간: 0.1347743235638686"
   ]
  },
  {
   "cell_type": "markdown",
   "metadata": {},
   "source": [
    "* LGBM RFE"
   ]
  },
  {
   "cell_type": "code",
   "execution_count": 8,
   "metadata": {},
   "outputs": [
    {
     "name": "stdout",
     "output_type": "stream",
     "text": [
      "[LightGBM] [Info] Auto-choosing col-wise multi-threading, the overhead of testing was 0.002827 seconds.\n",
      "You can set `force_col_wise=true` to remove the overhead.\n",
      "[LightGBM] [Info] Total Bins 2298\n",
      "[LightGBM] [Info] Number of data points in the train set: 63435, number of used features: 10\n",
      "[LightGBM] [Info] Start training from score -1.744243\n",
      "[LightGBM] [Info] Start training from score -1.208106\n",
      "[LightGBM] [Info] Start training from score -1.248814\n",
      "[LightGBM] [Info] Start training from score -1.982449\n",
      "[LightGBM] [Info] Start training from score -2.564256\n",
      "[LightGBM] [Info] Start training from score -3.885346\n",
      "[LightGBM] [Info] Start training from score -5.433754\n",
      "[LightGBM] [Info] Auto-choosing col-wise multi-threading, the overhead of testing was 0.002584 seconds.\n",
      "You can set `force_col_wise=true` to remove the overhead.\n",
      "[LightGBM] [Info] Total Bins 2295\n",
      "[LightGBM] [Info] Number of data points in the train set: 63435, number of used features: 9\n",
      "[LightGBM] [Info] Start training from score -1.744243\n",
      "[LightGBM] [Info] Start training from score -1.208106\n",
      "[LightGBM] [Info] Start training from score -1.248814\n",
      "[LightGBM] [Info] Start training from score -1.982449\n",
      "[LightGBM] [Info] Start training from score -2.564256\n",
      "[LightGBM] [Info] Start training from score -3.885346\n",
      "[LightGBM] [Info] Start training from score -5.433754\n",
      "[LightGBM] [Info] Auto-choosing col-wise multi-threading, the overhead of testing was 0.002282 seconds.\n",
      "You can set `force_col_wise=true` to remove the overhead.\n",
      "[LightGBM] [Info] Total Bins 2040\n",
      "[LightGBM] [Info] Number of data points in the train set: 63435, number of used features: 8\n",
      "[LightGBM] [Info] Start training from score -1.744243\n",
      "[LightGBM] [Info] Start training from score -1.208106\n",
      "[LightGBM] [Info] Start training from score -1.248814\n",
      "[LightGBM] [Info] Start training from score -1.982449\n",
      "[LightGBM] [Info] Start training from score -2.564256\n",
      "[LightGBM] [Info] Start training from score -3.885346\n",
      "[LightGBM] [Info] Start training from score -5.433754\n",
      "[LightGBM] [Info] Auto-choosing col-wise multi-threading, the overhead of testing was 0.002008 seconds.\n",
      "You can set `force_col_wise=true` to remove the overhead.\n",
      "[LightGBM] [Info] Total Bins 1785\n",
      "[LightGBM] [Info] Number of data points in the train set: 63435, number of used features: 7\n",
      "[LightGBM] [Info] Start training from score -1.744243\n",
      "[LightGBM] [Info] Start training from score -1.208106\n",
      "[LightGBM] [Info] Start training from score -1.248814\n",
      "[LightGBM] [Info] Start training from score -1.982449\n",
      "[LightGBM] [Info] Start training from score -2.564256\n",
      "[LightGBM] [Info] Start training from score -3.885346\n",
      "[LightGBM] [Info] Start training from score -5.433754\n",
      "[LightGBM] [Info] Auto-choosing col-wise multi-threading, the overhead of testing was 0.001980 seconds.\n",
      "You can set `force_col_wise=true` to remove the overhead.\n",
      "[LightGBM] [Info] Total Bins 1530\n",
      "[LightGBM] [Info] Number of data points in the train set: 63435, number of used features: 6\n",
      "[LightGBM] [Info] Start training from score -1.744243\n",
      "[LightGBM] [Info] Start training from score -1.208106\n",
      "[LightGBM] [Info] Start training from score -1.248814\n",
      "[LightGBM] [Info] Start training from score -1.982449\n",
      "[LightGBM] [Info] Start training from score -2.564256\n",
      "[LightGBM] [Info] Start training from score -3.885346\n",
      "[LightGBM] [Info] Start training from score -5.433754\n",
      "[LightGBM] [Info] Auto-choosing col-wise multi-threading, the overhead of testing was 0.001489 seconds.\n",
      "You can set `force_col_wise=true` to remove the overhead.\n",
      "[LightGBM] [Info] Total Bins 1275\n",
      "[LightGBM] [Info] Number of data points in the train set: 63435, number of used features: 5\n",
      "[LightGBM] [Info] Start training from score -1.744243\n",
      "[LightGBM] [Info] Start training from score -1.208106\n",
      "[LightGBM] [Info] Start training from score -1.248814\n",
      "[LightGBM] [Info] Start training from score -1.982449\n",
      "[LightGBM] [Info] Start training from score -2.564256\n",
      "[LightGBM] [Info] Start training from score -3.885346\n",
      "[LightGBM] [Info] Start training from score -5.433754\n",
      "[ True False  True  True False False  True False False  True]\n"
     ]
    }
   ],
   "source": [
    "model = LGBMClassifier(objective='multiclass', num_leaves=25, n_estimators=500, max_depth=10, \n",
    "               learning_rate=0.1, n_jobs=-1, random_state=42)\n",
    "\n",
    "rfe = RFE(model)\n",
    "\n",
    "rfe.fit(X_train, y_train)\n",
    "\n",
    "selected_features = rfe.support_\n",
    "print(selected_features)"
   ]
  },
  {
   "cell_type": "code",
   "execution_count": 9,
   "metadata": {},
   "outputs": [],
   "source": [
    "indices_of_true = list(np.where(selected_features)[0])\n",
    "X = train.loc[:, train.columns[indices_of_true]]\n",
    "X_ss = ss.fit_transform(X)\n",
    "X_train, X_val, y_train, y_val = train_test_split(X_ss, y, test_size=0.3, stratify=y, random_state=42)"
   ]
  },
  {
   "cell_type": "code",
   "execution_count": 10,
   "metadata": {},
   "outputs": [
    {
     "name": "stdout",
     "output_type": "stream",
     "text": [
      "[LightGBM] [Info] Auto-choosing col-wise multi-threading, the overhead of testing was 0.001446 seconds.\n",
      "You can set `force_col_wise=true` to remove the overhead.\n",
      "[LightGBM] [Info] Total Bins 1275\n",
      "[LightGBM] [Info] Number of data points in the train set: 63435, number of used features: 5\n",
      "[LightGBM] [Info] Start training from score -1.744243\n",
      "[LightGBM] [Info] Start training from score -1.208106\n",
      "[LightGBM] [Info] Start training from score -1.248814\n",
      "[LightGBM] [Info] Start training from score -1.982449\n",
      "[LightGBM] [Info] Start training from score -2.564256\n",
      "[LightGBM] [Info] Start training from score -3.885346\n",
      "[LightGBM] [Info] Start training from score -5.433754\n",
      "최상의 매개변수: {'num_leaves': 50, 'n_estimators': 300, 'max_depth': 40, 'learning_rate': 0.1}\n",
      "훈련 점수: 0.819\n",
      "테스트 세트 점수: 0.819\n"
     ]
    }
   ],
   "source": [
    "params = {'n_estimators' : [200,300,400,500],\n",
    "          'learning_rate' : [0.01,0.05,0.1,0.15],\n",
    "          'max_depth' : [-1,10,20,30,40,50],\n",
    "          'num_leaves' : [1,5,10,15,20,25,31,40,50]}\n",
    "\n",
    "grid_search(LGBMClassifier(objective='multiclass', random_state=42, n_jobs=-1), params, random=True)"
   ]
  },
  {
   "cell_type": "code",
   "execution_count": 11,
   "metadata": {},
   "outputs": [],
   "source": [
    "X_ss = pd.DataFrame(X_ss, columns=X.columns)\n",
    "y = pd.DataFrame(y)"
   ]
  },
  {
   "cell_type": "code",
   "execution_count": 12,
   "metadata": {},
   "outputs": [
    {
     "name": "stdout",
     "output_type": "stream",
     "text": [
      "[LightGBM] [Info] Auto-choosing col-wise multi-threading, the overhead of testing was 0.003594 seconds.\n",
      "You can set `force_col_wise=true` to remove the overhead.\n",
      "[LightGBM] [Info] Total Bins 1275\n",
      "[LightGBM] [Info] Number of data points in the train set: 81559, number of used features: 5\n",
      "[LightGBM] [Info] Start training from score -1.744289\n",
      "[LightGBM] [Info] Start training from score -1.208056\n",
      "[LightGBM] [Info] Start training from score -1.248847\n",
      "[LightGBM] [Info] Start training from score -1.982382\n",
      "[LightGBM] [Info] Start training from score -2.564275\n",
      "[LightGBM] [Info] Start training from score -3.885514\n",
      "[LightGBM] [Info] Start training from score -5.434151\n",
      "[LightGBM] [Info] Auto-choosing col-wise multi-threading, the overhead of testing was 0.001201 seconds.\n",
      "You can set `force_col_wise=true` to remove the overhead.\n",
      "[LightGBM] [Info] Total Bins 1275\n",
      "[LightGBM] [Info] Number of data points in the train set: 81559, number of used features: 5\n",
      "[LightGBM] [Info] Start training from score -1.744289\n",
      "[LightGBM] [Info] Start training from score -1.208056\n",
      "[LightGBM] [Info] Start training from score -1.248847\n",
      "[LightGBM] [Info] Start training from score -1.982382\n",
      "[LightGBM] [Info] Start training from score -2.564275\n",
      "[LightGBM] [Info] Start training from score -3.884917\n",
      "[LightGBM] [Info] Start training from score -5.436964\n",
      "[LightGBM] [Info] Auto-choosing row-wise multi-threading, the overhead of testing was 0.000343 seconds.\n",
      "You can set `force_row_wise=true` to remove the overhead.\n",
      "And if memory is not enough, you can set `force_col_wise=true`.\n",
      "[LightGBM] [Info] Total Bins 1275\n",
      "[LightGBM] [Info] Number of data points in the train set: 81560, number of used features: 5\n",
      "[LightGBM] [Info] Start training from score -1.744301\n",
      "[LightGBM] [Info] Start training from score -1.208068\n",
      "[LightGBM] [Info] Start training from score -1.248859\n",
      "[LightGBM] [Info] Start training from score -1.982394\n",
      "[LightGBM] [Info] Start training from score -2.564128\n",
      "[LightGBM] [Info] Start training from score -3.884929\n",
      "[LightGBM] [Info] Start training from score -5.436976\n",
      "[LightGBM] [Info] Auto-choosing row-wise multi-threading, the overhead of testing was 0.000366 seconds.\n",
      "You can set `force_row_wise=true` to remove the overhead.\n",
      "And if memory is not enough, you can set `force_col_wise=true`.\n",
      "[LightGBM] [Info] Total Bins 1275\n",
      "[LightGBM] [Info] Number of data points in the train set: 81560, number of used features: 5\n",
      "[LightGBM] [Info] Start training from score -1.744301\n",
      "[LightGBM] [Info] Start training from score -1.208068\n",
      "[LightGBM] [Info] Start training from score -1.248859\n",
      "[LightGBM] [Info] Start training from score -1.982394\n",
      "[LightGBM] [Info] Start training from score -2.564128\n",
      "[LightGBM] [Info] Start training from score -3.884929\n",
      "[LightGBM] [Info] Start training from score -5.436976\n",
      "[LightGBM] [Info] Auto-choosing col-wise multi-threading, the overhead of testing was 0.001531 seconds.\n",
      "You can set `force_col_wise=true` to remove the overhead.\n",
      "[LightGBM] [Info] Total Bins 1275\n",
      "[LightGBM] [Info] Number of data points in the train set: 81560, number of used features: 5\n",
      "[LightGBM] [Info] Start training from score -1.744301\n",
      "[LightGBM] [Info] Start training from score -1.208109\n",
      "[LightGBM] [Info] Start training from score -1.248817\n",
      "[LightGBM] [Info] Start training from score -1.982394\n",
      "[LightGBM] [Info] Start training from score -2.564128\n",
      "[LightGBM] [Info] Start training from score -3.884929\n",
      "[LightGBM] [Info] Start training from score -5.436976\n",
      "[LightGBM] [Info] Auto-choosing col-wise multi-threading, the overhead of testing was 0.001134 seconds.\n",
      "You can set `force_col_wise=true` to remove the overhead.\n",
      "[LightGBM] [Info] Total Bins 1275\n",
      "[LightGBM] [Info] Number of data points in the train set: 81560, number of used features: 5\n",
      "[LightGBM] [Info] Start training from score -1.744301\n",
      "[LightGBM] [Info] Start training from score -1.208109\n",
      "[LightGBM] [Info] Start training from score -1.248817\n",
      "[LightGBM] [Info] Start training from score -1.982394\n",
      "[LightGBM] [Info] Start training from score -2.564128\n",
      "[LightGBM] [Info] Start training from score -3.884929\n",
      "[LightGBM] [Info] Start training from score -5.436976\n",
      "[LightGBM] [Info] Auto-choosing col-wise multi-threading, the overhead of testing was 0.001698 seconds.\n",
      "You can set `force_col_wise=true` to remove the overhead.\n",
      "[LightGBM] [Info] Total Bins 1275\n",
      "[LightGBM] [Info] Number of data points in the train set: 81560, number of used features: 5\n",
      "[LightGBM] [Info] Start training from score -1.744301\n",
      "[LightGBM] [Info] Start training from score -1.208109\n",
      "[LightGBM] [Info] Start training from score -1.248817\n",
      "[LightGBM] [Info] Start training from score -1.982394\n",
      "[LightGBM] [Info] Start training from score -2.564287\n",
      "[LightGBM] [Info] Start training from score -3.884929\n",
      "[LightGBM] [Info] Start training from score -5.434163\n",
      "[LightGBM] [Info] Auto-choosing col-wise multi-threading, the overhead of testing was 0.001759 seconds.\n",
      "You can set `force_col_wise=true` to remove the overhead.\n",
      "[LightGBM] [Info] Total Bins 1275\n",
      "[LightGBM] [Info] Number of data points in the train set: 81560, number of used features: 5\n",
      "[LightGBM] [Info] Start training from score -1.744231\n",
      "[LightGBM] [Info] Start training from score -1.208109\n",
      "[LightGBM] [Info] Start training from score -1.248817\n",
      "[LightGBM] [Info] Start training from score -1.982483\n",
      "[LightGBM] [Info] Start training from score -2.564287\n",
      "[LightGBM] [Info] Start training from score -3.884929\n",
      "[LightGBM] [Info] Start training from score -5.434163\n",
      "[LightGBM] [Info] Auto-choosing col-wise multi-threading, the overhead of testing was 0.001520 seconds.\n",
      "You can set `force_col_wise=true` to remove the overhead.\n",
      "[LightGBM] [Info] Total Bins 1275\n",
      "[LightGBM] [Info] Number of data points in the train set: 81560, number of used features: 5\n",
      "[LightGBM] [Info] Start training from score -1.744231\n",
      "[LightGBM] [Info] Start training from score -1.208109\n",
      "[LightGBM] [Info] Start training from score -1.248817\n",
      "[LightGBM] [Info] Start training from score -1.982483\n",
      "[LightGBM] [Info] Start training from score -2.564287\n",
      "[LightGBM] [Info] Start training from score -3.884929\n",
      "[LightGBM] [Info] Start training from score -5.434163\n",
      "[LightGBM] [Info] Auto-choosing col-wise multi-threading, the overhead of testing was 0.001350 seconds.\n",
      "You can set `force_col_wise=true` to remove the overhead.\n",
      "[LightGBM] [Info] Total Bins 1275\n",
      "[LightGBM] [Info] Number of data points in the train set: 81560, number of used features: 5\n",
      "[LightGBM] [Info] Start training from score -1.744301\n",
      "[LightGBM] [Info] Start training from score -1.208068\n",
      "[LightGBM] [Info] Start training from score -1.248817\n",
      "[LightGBM] [Info] Start training from score -1.982394\n",
      "[LightGBM] [Info] Start training from score -2.564287\n",
      "[LightGBM] [Info] Start training from score -3.885526\n",
      "[LightGBM] [Info] Start training from score -5.434163\n",
      "Average F1-macro score: 0.8310357025653075\n",
      "\n",
      " ---------- 특성중요도 ----------\n",
      "대출금액: 21172\n",
      "총상환원금: 26370\n",
      "총상환이자: 28500\n",
      "대출금액/대출기간: 11251\n",
      "총상환원금/대출기간: 15607\n"
     ]
    }
   ],
   "source": [
    "skf_score(LGBMClassifier(objective='multiclass', num_leaves=50, n_estimators=300, max_depth=40, \n",
    "               learning_rate=0.1, n_jobs=-1, random_state=42))"
   ]
  },
  {
   "cell_type": "markdown",
   "metadata": {},
   "source": [
    "model|k-Fold|Sk-Fold\n",
    "-|-|-\n",
    "DecisionTree Classifier|0.747|0.7777502879496405\n",
    "RandomForest Classifier|0.839|0.8499651809840966 -> 최고성능\n",
    "XGBoost Classifier|0.825|0.8489262679454228\n",
    "Light GBM Classifier|0.819|0.8310357025653075"
   ]
  }
 ],
 "metadata": {
  "kernelspec": {
   "display_name": "Python 3",
   "language": "python",
   "name": "python3"
  },
  "language_info": {
   "codemirror_mode": {
    "name": "ipython",
    "version": 3
   },
   "file_extension": ".py",
   "mimetype": "text/x-python",
   "name": "python",
   "nbconvert_exporter": "python",
   "pygments_lexer": "ipython3",
   "version": "3.12.0"
  }
 },
 "nbformat": 4,
 "nbformat_minor": 2
}
